{
 "cells": [
  {
   "cell_type": "code",
   "execution_count": 1,
   "metadata": {},
   "outputs": [],
   "source": [
    "import pandas as pd\n",
    "import numpy as np\n",
    "import statsmodels as ols\n",
    "import warnings\n",
    "warnings.filterwarnings('ignore')"
   ]
  },
  {
   "cell_type": "code",
   "execution_count": 2,
   "metadata": {},
   "outputs": [],
   "source": [
    "# READ IN DATA\n",
    "killsData = pd.read_csv('kills.csv')\n",
    "roundViewData = pd.read_csv('round_view.csv')"
   ]
  },
  {
   "cell_type": "code",
   "execution_count": null,
   "metadata": {
    "scrolled": false
   },
   "outputs": [],
   "source": [
    "matchNames = (roundViewData['file']).unique()\n",
    "updatedKillsData = pd.DataFrame()\n",
    "fractionOfData = 20\n",
    "\n",
    "for i in range( round(len(matchNames)/fractionOfData) ):\n",
    "    numberOfRounds = roundViewData[roundViewData['file'] == matchNames[i]].shape[0]\n",
    "    roundSplit = killsData[killsData['file'] == matchNames[i]].get('seconds').diff()\n",
    "    roundSplitArr = roundSplit[roundSplit <= 0].index\n",
    "    startOfDifGame = killsData[killsData['file'] == matchNames[i+1]].get('seconds').diff().index[0]\n",
    "    \n",
    "#     print(startOfDifGame)\n",
    "    \n",
    "    #Iterate through round ranges(for killsData) to apply new columns     \n",
    "    for j in range(len(roundSplitArr)):\n",
    "        currentRoundInfo = roundViewData.iloc[j]\n",
    "        \n",
    "#         print(roundSplitArr[j])\n",
    "#         print(\"VALUE OF J:\", j)\n",
    "\n",
    "        #First and Second Round Condition     \n",
    "        if j == 0 and roundSplitArr[j] != 0:\n",
    "            #For the first round        \n",
    "            updatedKillsData = updatedKillsData.append(killsData.iloc[0:roundSplitArr[j]].assign(**{\n",
    "                'Round_Type': currentRoundInfo['round_type'],\n",
    "                'Winner_Side' : currentRoundInfo['winner_side'],\n",
    "                'Ct_Eq_Val': currentRoundInfo['ct_eq_val'],\n",
    "                'T_Eq_Val': currentRoundInfo['t_eq_val'],\n",
    "                'map': currentRoundInfo['map']\n",
    "            }))\n",
    "            \n",
    "            #Update for next Round           \n",
    "            currentRoundInfo = roundViewData.iloc[j+1]\n",
    "            updatedKillsData = updatedKillsData.append(killsData.iloc[roundSplitArr[j]:roundSplitArr[j+1]].assign(**{\n",
    "                'Round_Type': currentRoundInfo['round_type'],\n",
    "                'Winner_Side' : currentRoundInfo['winner_side'],\n",
    "                'Ct_Eq_Val': currentRoundInfo['ct_eq_val'],\n",
    "                'T_Eq_Val': currentRoundInfo['t_eq_val'],\n",
    "                'map': currentRoundInfo['map']\n",
    "            }))\n",
    "      \n",
    "#             print(updatedKillsData)\n",
    "        \n",
    "        #Last Round Condition\n",
    "        elif j == (len(roundSplitArr) - 1):\n",
    "            updatedKillsData = updatedKillsData.append(killsData.iloc[roundSplitArr[j]:startOfDifGame].assign(**{\n",
    "                'Round_Type': currentRoundInfo['round_type'],\n",
    "                'Winner_Side' : currentRoundInfo['winner_side'],\n",
    "                'Ct_Eq_Val': currentRoundInfo['ct_eq_val'],\n",
    "                'T_Eq_Val': currentRoundInfo['t_eq_val'],\n",
    "                'map': currentRoundInfo['map']\n",
    "            }))\n",
    "#             print(updatedKillsData)\n",
    "\n",
    "        #All Other Rounds      \n",
    "        else:\n",
    "            updatedKillsData = updatedKillsData.append(killsData.iloc[roundSplitArr[j]:roundSplitArr[j+1]].assign(**{\n",
    "                'Round_Type': currentRoundInfo['round_type'],\n",
    "                'Winner_Side' : currentRoundInfo['winner_side'],\n",
    "                'Ct_Eq_Val': currentRoundInfo['ct_eq_val'],\n",
    "                'T_Eq_Val': currentRoundInfo['t_eq_val'],\n",
    "                'map': currentRoundInfo['map']\n",
    "            }))\n",
    "#             print(updatedKillsData)\n",
    "        \n",
    "#         print('=======================')\n"
   ]
  }
 ],
 "metadata": {
  "kernelspec": {
   "display_name": "Python 3",
   "language": "python",
   "name": "python3"
  },
  "language_info": {
   "codemirror_mode": {
    "name": "ipython",
    "version": 3
   },
   "file_extension": ".py",
   "mimetype": "text/x-python",
   "name": "python",
   "nbconvert_exporter": "python",
   "pygments_lexer": "ipython3",
   "version": "3.8.6"
  }
 },
 "nbformat": 4,
 "nbformat_minor": 4
}
