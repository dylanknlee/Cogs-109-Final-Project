{
 "cells": [
  {
   "cell_type": "code",
   "execution_count": 1,
   "metadata": {},
   "outputs": [],
   "source": [
    "import pandas as pd\n",
    "import numpy as np\n",
    "import matplotlib.pyplot as plt\n",
    "import statsmodels as ols\n",
    "\n",
    "import warnings\n",
    "warnings.filterwarnings('ignore')\n",
    "\n",
    "import time\n",
    "\n",
    "from sklearn.preprocessing import FunctionTransformer\n",
    "from sklearn.preprocessing import OneHotEncoder\n",
    "from sklearn.pipeline import Pipeline\n",
    "from sklearn.compose import ColumnTransformer\n",
    "\n",
    "from sklearn.model_selection import train_test_split\n",
    "from sklearn.linear_model import LogisticRegression\n",
    "\n",
    "from statsmodels.formula.api import logit"
   ]
  },
  {
   "cell_type": "code",
   "execution_count": 2,
   "metadata": {},
   "outputs": [],
   "source": [
    "# READ IN DATA\n",
    "killsData = pd.read_csv('kills.csv')\n",
    "roundViewData = pd.read_csv('round_view.csv')"
   ]
  },
  {
   "cell_type": "code",
   "execution_count": 3,
   "metadata": {
    "scrolled": true
   },
   "outputs": [
    {
     "name": "stdout",
     "output_type": "stream",
     "text": [
      "Wall time: 32.8 s\n"
     ]
    }
   ],
   "source": [
    "%%time\n",
    "matchNames = (roundViewData['file']).unique()\n",
    "updatedKillsData = pd.DataFrame()\n",
    "\n",
    "for i in range( 40 ):\n",
    "    numberOfRounds = roundViewData[roundViewData['file'] == matchNames[i]].shape[0]\n",
    "    roundSplit = killsData[killsData['file'] == matchNames[i]].get('seconds').diff()\n",
    "    roundSplitArr = roundSplit[roundSplit <= 0].index\n",
    "    startOfDifGame = killsData[killsData['file'] == matchNames[i+1]].get('seconds').diff().index[0]\n",
    "    \n",
    "#     print(startOfDifGame)\n",
    "    \n",
    "    #Iterate through round ranges(for killsData) to apply new columns     \n",
    "    for j in range(len(roundSplitArr)):\n",
    "        currentRoundInfo = roundViewData.iloc[j]\n",
    "        \n",
    "#         print(roundSplitArr[j])\n",
    "#         print(\"VALUE OF J:\", j)\n",
    "\n",
    "        #First and Second Round Condition     \n",
    "        if j == 0 and roundSplitArr[j] != 0:\n",
    "            #For the first round        \n",
    "            updatedKillsData = updatedKillsData.append(killsData.iloc[0:roundSplitArr[j]].assign(**{\n",
    "                'Round_Type': currentRoundInfo['round_type'],\n",
    "                'Winner_Side' : currentRoundInfo['winner_side'],\n",
    "                'Ct_Eq_Val': currentRoundInfo['ct_eq_val'],\n",
    "                'T_Eq_Val': currentRoundInfo['t_eq_val'],\n",
    "                'map': currentRoundInfo['map']\n",
    "            }))\n",
    "            \n",
    "            #Update for next Round           \n",
    "            currentRoundInfo = roundViewData.iloc[j+1]\n",
    "            updatedKillsData = updatedKillsData.append(killsData.iloc[roundSplitArr[j]:roundSplitArr[j+1]].assign(**{\n",
    "                'Round_Type': currentRoundInfo['round_type'],\n",
    "                'Winner_Side' : currentRoundInfo['winner_side'],\n",
    "                'Ct_Eq_Val': currentRoundInfo['ct_eq_val'],\n",
    "                'T_Eq_Val': currentRoundInfo['t_eq_val'],\n",
    "                'map': currentRoundInfo['map']\n",
    "            }))\n",
    "      \n",
    "#             print(updatedKillsData)\n",
    "        \n",
    "        #Last Round Condition\n",
    "        elif j == (len(roundSplitArr) - 1):\n",
    "            updatedKillsData = updatedKillsData.append(killsData.iloc[roundSplitArr[j]:startOfDifGame].assign(**{\n",
    "                'Round_Type': currentRoundInfo['round_type'],\n",
    "                'Winner_Side' : currentRoundInfo['winner_side'],\n",
    "                'Ct_Eq_Val': currentRoundInfo['ct_eq_val'],\n",
    "                'T_Eq_Val': currentRoundInfo['t_eq_val'],\n",
    "                'map': currentRoundInfo['map']\n",
    "            }))\n",
    "#             print(updatedKillsData)\n",
    "\n",
    "        #All Other Rounds      \n",
    "        else:\n",
    "            updatedKillsData = updatedKillsData.append(killsData.iloc[roundSplitArr[j]:roundSplitArr[j+1]].assign(**{\n",
    "                'Round_Type': currentRoundInfo['round_type'],\n",
    "                'Winner_Side' : currentRoundInfo['winner_side'],\n",
    "                'Ct_Eq_Val': currentRoundInfo['ct_eq_val'],\n",
    "                'T_Eq_Val': currentRoundInfo['t_eq_val'],\n",
    "                'map': currentRoundInfo['map']\n",
    "            }))\n",
    "#             print(updatedKillsData)\n",
    "        \n",
    "#         print('=======================')\n"
   ]
  },
  {
   "cell_type": "markdown",
   "metadata": {},
   "source": [
    "# DATA CLEANING"
   ]
  },
  {
   "cell_type": "code",
   "execution_count": 4,
   "metadata": {
    "scrolled": true
   },
   "outputs": [
    {
     "data": {
      "text/html": [
       "<div>\n",
       "<style scoped>\n",
       "    .dataframe tbody tr th:only-of-type {\n",
       "        vertical-align: middle;\n",
       "    }\n",
       "\n",
       "    .dataframe tbody tr th {\n",
       "        vertical-align: top;\n",
       "    }\n",
       "\n",
       "    .dataframe thead th {\n",
       "        text-align: right;\n",
       "    }\n",
       "</style>\n",
       "<table border=\"1\" class=\"dataframe\">\n",
       "  <thead>\n",
       "    <tr style=\"text-align: right;\">\n",
       "      <th></th>\n",
       "      <th>Unnamed: 0</th>\n",
       "      <th>file</th>\n",
       "      <th>seconds</th>\n",
       "      <th>ct_alive</th>\n",
       "      <th>t_alive</th>\n",
       "      <th>is_bomb_planted</th>\n",
       "      <th>wp_type</th>\n",
       "      <th>is_ct</th>\n",
       "      <th>Round_Type</th>\n",
       "      <th>Winner_Side</th>\n",
       "      <th>Ct_Eq_Val</th>\n",
       "      <th>T_Eq_Val</th>\n",
       "      <th>map</th>\n",
       "    </tr>\n",
       "  </thead>\n",
       "  <tbody>\n",
       "    <tr>\n",
       "      <th>0</th>\n",
       "      <td>0</td>\n",
       "      <td>esea_match_13770997.dem</td>\n",
       "      <td>30.74165</td>\n",
       "      <td>5</td>\n",
       "      <td>4</td>\n",
       "      <td>0</td>\n",
       "      <td>Pistol</td>\n",
       "      <td>1</td>\n",
       "      <td>PISTOL_ROUND</td>\n",
       "      <td>Terrorist</td>\n",
       "      <td>4300</td>\n",
       "      <td>4250</td>\n",
       "      <td>de_overpass</td>\n",
       "    </tr>\n",
       "    <tr>\n",
       "      <th>1</th>\n",
       "      <td>1</td>\n",
       "      <td>esea_match_13770997.dem</td>\n",
       "      <td>31.93185</td>\n",
       "      <td>4</td>\n",
       "      <td>4</td>\n",
       "      <td>0</td>\n",
       "      <td>Pistol</td>\n",
       "      <td>0</td>\n",
       "      <td>PISTOL_ROUND</td>\n",
       "      <td>Terrorist</td>\n",
       "      <td>4300</td>\n",
       "      <td>4250</td>\n",
       "      <td>de_overpass</td>\n",
       "    </tr>\n",
       "    <tr>\n",
       "      <th>2</th>\n",
       "      <td>2</td>\n",
       "      <td>esea_match_13770997.dem</td>\n",
       "      <td>34.28094</td>\n",
       "      <td>3</td>\n",
       "      <td>4</td>\n",
       "      <td>0</td>\n",
       "      <td>Pistol</td>\n",
       "      <td>0</td>\n",
       "      <td>PISTOL_ROUND</td>\n",
       "      <td>Terrorist</td>\n",
       "      <td>4300</td>\n",
       "      <td>4250</td>\n",
       "      <td>de_overpass</td>\n",
       "    </tr>\n",
       "    <tr>\n",
       "      <th>3</th>\n",
       "      <td>3</td>\n",
       "      <td>esea_match_13770997.dem</td>\n",
       "      <td>38.93212</td>\n",
       "      <td>3</td>\n",
       "      <td>3</td>\n",
       "      <td>0</td>\n",
       "      <td>Pistol</td>\n",
       "      <td>1</td>\n",
       "      <td>PISTOL_ROUND</td>\n",
       "      <td>Terrorist</td>\n",
       "      <td>4300</td>\n",
       "      <td>4250</td>\n",
       "      <td>de_overpass</td>\n",
       "    </tr>\n",
       "    <tr>\n",
       "      <th>4</th>\n",
       "      <td>4</td>\n",
       "      <td>esea_match_13770997.dem</td>\n",
       "      <td>40.76441</td>\n",
       "      <td>2</td>\n",
       "      <td>3</td>\n",
       "      <td>0</td>\n",
       "      <td>Pistol</td>\n",
       "      <td>0</td>\n",
       "      <td>PISTOL_ROUND</td>\n",
       "      <td>Terrorist</td>\n",
       "      <td>4300</td>\n",
       "      <td>4250</td>\n",
       "      <td>de_overpass</td>\n",
       "    </tr>\n",
       "  </tbody>\n",
       "</table>\n",
       "</div>"
      ],
      "text/plain": [
       "   Unnamed: 0                     file   seconds  ct_alive  t_alive  \\\n",
       "0           0  esea_match_13770997.dem  30.74165         5        4   \n",
       "1           1  esea_match_13770997.dem  31.93185         4        4   \n",
       "2           2  esea_match_13770997.dem  34.28094         3        4   \n",
       "3           3  esea_match_13770997.dem  38.93212         3        3   \n",
       "4           4  esea_match_13770997.dem  40.76441         2        3   \n",
       "\n",
       "   is_bomb_planted wp_type  is_ct    Round_Type Winner_Side  Ct_Eq_Val  \\\n",
       "0                0  Pistol      1  PISTOL_ROUND   Terrorist       4300   \n",
       "1                0  Pistol      0  PISTOL_ROUND   Terrorist       4300   \n",
       "2                0  Pistol      0  PISTOL_ROUND   Terrorist       4300   \n",
       "3                0  Pistol      1  PISTOL_ROUND   Terrorist       4300   \n",
       "4                0  Pistol      0  PISTOL_ROUND   Terrorist       4300   \n",
       "\n",
       "   T_Eq_Val          map  \n",
       "0      4250  de_overpass  \n",
       "1      4250  de_overpass  \n",
       "2      4250  de_overpass  \n",
       "3      4250  de_overpass  \n",
       "4      4250  de_overpass  "
      ]
     },
     "execution_count": 4,
     "metadata": {},
     "output_type": "execute_result"
    }
   ],
   "source": [
    "#updatedKillsData['Winner_Side'].value_counts()\n",
    "updatedKillsData.head()"
   ]
  },
  {
   "cell_type": "code",
   "execution_count": 5,
   "metadata": {},
   "outputs": [],
   "source": [
    "ct_win = updatedKillsData.loc[updatedKillsData['Winner_Side'] == 'CounterTerrorist']\n",
    "\n",
    "tr_win = updatedKillsData.loc[updatedKillsData['Winner_Side'] == 'Terrorist']\n",
    "random_tr_sample = tr_win.sample(ct_win.shape[0])"
   ]
  },
  {
   "cell_type": "code",
   "execution_count": 6,
   "metadata": {
    "scrolled": true
   },
   "outputs": [],
   "source": [
    "equal_dataset = pd.concat([ct_win, random_tr_sample], axis = 0)"
   ]
  },
  {
   "cell_type": "code",
   "execution_count": 7,
   "metadata": {},
   "outputs": [
    {
     "data": {
      "text/html": [
       "<div>\n",
       "<style scoped>\n",
       "    .dataframe tbody tr th:only-of-type {\n",
       "        vertical-align: middle;\n",
       "    }\n",
       "\n",
       "    .dataframe tbody tr th {\n",
       "        vertical-align: top;\n",
       "    }\n",
       "\n",
       "    .dataframe thead th {\n",
       "        text-align: right;\n",
       "    }\n",
       "</style>\n",
       "<table border=\"1\" class=\"dataframe\">\n",
       "  <thead>\n",
       "    <tr style=\"text-align: right;\">\n",
       "      <th></th>\n",
       "      <th>Unnamed: 0</th>\n",
       "      <th>file</th>\n",
       "      <th>seconds</th>\n",
       "      <th>ct_alive</th>\n",
       "      <th>t_alive</th>\n",
       "      <th>is_bomb_planted</th>\n",
       "      <th>wp_type</th>\n",
       "      <th>is_ct</th>\n",
       "      <th>Round_Type</th>\n",
       "      <th>Winner_Side</th>\n",
       "      <th>Ct_Eq_Val</th>\n",
       "      <th>T_Eq_Val</th>\n",
       "      <th>map</th>\n",
       "    </tr>\n",
       "  </thead>\n",
       "  <tbody>\n",
       "    <tr>\n",
       "      <th>38</th>\n",
       "      <td>38</td>\n",
       "      <td>esea_match_13770997.dem</td>\n",
       "      <td>40.38855</td>\n",
       "      <td>4</td>\n",
       "      <td>5</td>\n",
       "      <td>0</td>\n",
       "      <td>Rifle</td>\n",
       "      <td>0</td>\n",
       "      <td>ECO</td>\n",
       "      <td>CounterTerrorist</td>\n",
       "      <td>5400</td>\n",
       "      <td>20550</td>\n",
       "      <td>de_overpass</td>\n",
       "    </tr>\n",
       "    <tr>\n",
       "      <th>39</th>\n",
       "      <td>39</td>\n",
       "      <td>esea_match_13770997.dem</td>\n",
       "      <td>43.39539</td>\n",
       "      <td>3</td>\n",
       "      <td>5</td>\n",
       "      <td>0</td>\n",
       "      <td>Rifle</td>\n",
       "      <td>0</td>\n",
       "      <td>ECO</td>\n",
       "      <td>CounterTerrorist</td>\n",
       "      <td>5400</td>\n",
       "      <td>20550</td>\n",
       "      <td>de_overpass</td>\n",
       "    </tr>\n",
       "    <tr>\n",
       "      <th>40</th>\n",
       "      <td>40</td>\n",
       "      <td>esea_match_13770997.dem</td>\n",
       "      <td>48.93921</td>\n",
       "      <td>3</td>\n",
       "      <td>4</td>\n",
       "      <td>0</td>\n",
       "      <td>Rifle</td>\n",
       "      <td>1</td>\n",
       "      <td>ECO</td>\n",
       "      <td>CounterTerrorist</td>\n",
       "      <td>5400</td>\n",
       "      <td>20550</td>\n",
       "      <td>de_overpass</td>\n",
       "    </tr>\n",
       "    <tr>\n",
       "      <th>41</th>\n",
       "      <td>41</td>\n",
       "      <td>esea_match_13770997.dem</td>\n",
       "      <td>61.76520</td>\n",
       "      <td>3</td>\n",
       "      <td>3</td>\n",
       "      <td>0</td>\n",
       "      <td>Rifle</td>\n",
       "      <td>1</td>\n",
       "      <td>ECO</td>\n",
       "      <td>CounterTerrorist</td>\n",
       "      <td>5400</td>\n",
       "      <td>20550</td>\n",
       "      <td>de_overpass</td>\n",
       "    </tr>\n",
       "    <tr>\n",
       "      <th>42</th>\n",
       "      <td>42</td>\n",
       "      <td>esea_match_13770997.dem</td>\n",
       "      <td>62.26636</td>\n",
       "      <td>3</td>\n",
       "      <td>2</td>\n",
       "      <td>0</td>\n",
       "      <td>Rifle</td>\n",
       "      <td>1</td>\n",
       "      <td>ECO</td>\n",
       "      <td>CounterTerrorist</td>\n",
       "      <td>5400</td>\n",
       "      <td>20550</td>\n",
       "      <td>de_overpass</td>\n",
       "    </tr>\n",
       "    <tr>\n",
       "      <th>...</th>\n",
       "      <td>...</td>\n",
       "      <td>...</td>\n",
       "      <td>...</td>\n",
       "      <td>...</td>\n",
       "      <td>...</td>\n",
       "      <td>...</td>\n",
       "      <td>...</td>\n",
       "      <td>...</td>\n",
       "      <td>...</td>\n",
       "      <td>...</td>\n",
       "      <td>...</td>\n",
       "      <td>...</td>\n",
       "      <td>...</td>\n",
       "    </tr>\n",
       "    <tr>\n",
       "      <th>1311</th>\n",
       "      <td>1311</td>\n",
       "      <td>esea_match_13779776.dem</td>\n",
       "      <td>40.88110</td>\n",
       "      <td>4</td>\n",
       "      <td>5</td>\n",
       "      <td>0</td>\n",
       "      <td>Rifle</td>\n",
       "      <td>0</td>\n",
       "      <td>PISTOL_ROUND</td>\n",
       "      <td>Terrorist</td>\n",
       "      <td>4300</td>\n",
       "      <td>4250</td>\n",
       "      <td>de_overpass</td>\n",
       "    </tr>\n",
       "    <tr>\n",
       "      <th>3884</th>\n",
       "      <td>3884</td>\n",
       "      <td>esea_match_13779811.dem</td>\n",
       "      <td>31.71191</td>\n",
       "      <td>4</td>\n",
       "      <td>4</td>\n",
       "      <td>0</td>\n",
       "      <td>Pistol</td>\n",
       "      <td>0</td>\n",
       "      <td>PISTOL_ROUND</td>\n",
       "      <td>Terrorist</td>\n",
       "      <td>4300</td>\n",
       "      <td>4250</td>\n",
       "      <td>de_overpass</td>\n",
       "    </tr>\n",
       "    <tr>\n",
       "      <th>2337</th>\n",
       "      <td>2337</td>\n",
       "      <td>esea_match_13779789.dem</td>\n",
       "      <td>47.01685</td>\n",
       "      <td>3</td>\n",
       "      <td>2</td>\n",
       "      <td>0</td>\n",
       "      <td>Pistol</td>\n",
       "      <td>1</td>\n",
       "      <td>PISTOL_ROUND</td>\n",
       "      <td>Terrorist</td>\n",
       "      <td>4300</td>\n",
       "      <td>4250</td>\n",
       "      <td>de_overpass</td>\n",
       "    </tr>\n",
       "    <tr>\n",
       "      <th>1323</th>\n",
       "      <td>1323</td>\n",
       "      <td>esea_match_13779776.dem</td>\n",
       "      <td>43.77759</td>\n",
       "      <td>2</td>\n",
       "      <td>3</td>\n",
       "      <td>1</td>\n",
       "      <td>Rifle</td>\n",
       "      <td>0</td>\n",
       "      <td>PISTOL_ROUND</td>\n",
       "      <td>Terrorist</td>\n",
       "      <td>4300</td>\n",
       "      <td>4250</td>\n",
       "      <td>de_overpass</td>\n",
       "    </tr>\n",
       "    <tr>\n",
       "      <th>1052</th>\n",
       "      <td>1052</td>\n",
       "      <td>esea_match_13779775.dem</td>\n",
       "      <td>41.93628</td>\n",
       "      <td>3</td>\n",
       "      <td>5</td>\n",
       "      <td>0</td>\n",
       "      <td>SMG</td>\n",
       "      <td>0</td>\n",
       "      <td>PISTOL_ROUND</td>\n",
       "      <td>Terrorist</td>\n",
       "      <td>4300</td>\n",
       "      <td>4250</td>\n",
       "      <td>de_overpass</td>\n",
       "    </tr>\n",
       "  </tbody>\n",
       "</table>\n",
       "<p>10476 rows × 13 columns</p>\n",
       "</div>"
      ],
      "text/plain": [
       "      Unnamed: 0                     file   seconds  ct_alive  t_alive  \\\n",
       "38            38  esea_match_13770997.dem  40.38855         4        5   \n",
       "39            39  esea_match_13770997.dem  43.39539         3        5   \n",
       "40            40  esea_match_13770997.dem  48.93921         3        4   \n",
       "41            41  esea_match_13770997.dem  61.76520         3        3   \n",
       "42            42  esea_match_13770997.dem  62.26636         3        2   \n",
       "...          ...                      ...       ...       ...      ...   \n",
       "1311        1311  esea_match_13779776.dem  40.88110         4        5   \n",
       "3884        3884  esea_match_13779811.dem  31.71191         4        4   \n",
       "2337        2337  esea_match_13779789.dem  47.01685         3        2   \n",
       "1323        1323  esea_match_13779776.dem  43.77759         2        3   \n",
       "1052        1052  esea_match_13779775.dem  41.93628         3        5   \n",
       "\n",
       "      is_bomb_planted wp_type  is_ct    Round_Type       Winner_Side  \\\n",
       "38                  0   Rifle      0           ECO  CounterTerrorist   \n",
       "39                  0   Rifle      0           ECO  CounterTerrorist   \n",
       "40                  0   Rifle      1           ECO  CounterTerrorist   \n",
       "41                  0   Rifle      1           ECO  CounterTerrorist   \n",
       "42                  0   Rifle      1           ECO  CounterTerrorist   \n",
       "...               ...     ...    ...           ...               ...   \n",
       "1311                0   Rifle      0  PISTOL_ROUND         Terrorist   \n",
       "3884                0  Pistol      0  PISTOL_ROUND         Terrorist   \n",
       "2337                0  Pistol      1  PISTOL_ROUND         Terrorist   \n",
       "1323                1   Rifle      0  PISTOL_ROUND         Terrorist   \n",
       "1052                0     SMG      0  PISTOL_ROUND         Terrorist   \n",
       "\n",
       "      Ct_Eq_Val  T_Eq_Val          map  \n",
       "38         5400     20550  de_overpass  \n",
       "39         5400     20550  de_overpass  \n",
       "40         5400     20550  de_overpass  \n",
       "41         5400     20550  de_overpass  \n",
       "42         5400     20550  de_overpass  \n",
       "...         ...       ...          ...  \n",
       "1311       4300      4250  de_overpass  \n",
       "3884       4300      4250  de_overpass  \n",
       "2337       4300      4250  de_overpass  \n",
       "1323       4300      4250  de_overpass  \n",
       "1052       4300      4250  de_overpass  \n",
       "\n",
       "[10476 rows x 13 columns]"
      ]
     },
     "execution_count": 7,
     "metadata": {},
     "output_type": "execute_result"
    }
   ],
   "source": [
    "equal_dataset"
   ]
  },
  {
   "cell_type": "markdown",
   "metadata": {},
   "source": [
    "# FEATURE ENGINEERING"
   ]
  },
  {
   "cell_type": "markdown",
   "metadata": {},
   "source": [
    "This is just some feature engineering so that the data is in a suitable method for the logistic regression (don't modify)"
   ]
  },
  {
   "cell_type": "code",
   "execution_count": 8,
   "metadata": {},
   "outputs": [],
   "source": [
    "# WEAPONS - ONE HOT ENCODED\n",
    "\n",
    "ohe_weapons = OneHotEncoder()\n",
    "weapon_types = ohe_weapons.fit_transform(equal_dataset[['wp_type']])\n",
    "\n",
    "weapons = pd.DataFrame(weapon_types.toarray()).reset_index(drop = True)\n",
    "weapons.columns = ohe_weapons.get_feature_names()"
   ]
  },
  {
   "cell_type": "code",
   "execution_count": 9,
   "metadata": {},
   "outputs": [],
   "source": [
    "# ROUND TYPE - ONE HOT ENCODED\n",
    "\n",
    "ohe_round_type = OneHotEncoder()\n",
    "round_types = ohe_round_type.fit_transform(equal_dataset[['Round_Type']])\n",
    "\n",
    "round_type = pd.DataFrame(round_types.toarray()).reset_index(drop = True)\n",
    "round_type.columns = ohe_round_type.get_feature_names()"
   ]
  },
  {
   "cell_type": "code",
   "execution_count": 10,
   "metadata": {},
   "outputs": [],
   "source": [
    "equal_dataset['y'] = equal_dataset['Winner_Side'].apply(lambda x: 1 if x == 'CounterTerrorist' else 0)\n",
    "equal_dataset['Is_Overpass'] = equal_dataset['map'].apply(lambda x: 1 if x == 'de_overpass' else 0)\n",
    "equal_dataset = equal_dataset.drop(columns = ['Winner_Side', 'map', 'Round_Type', 'wp_type', 'seconds', 'file', 'Unnamed: 0']).reset_index(drop = True)"
   ]
  },
  {
   "cell_type": "code",
   "execution_count": 11,
   "metadata": {},
   "outputs": [
    {
     "data": {
      "text/plain": [
       "array(['ct_alive', 't_alive', 'is_bomb_planted', 'is_ct', 'Ct_Eq_Val',\n",
       "       'T_Eq_Val', 'Is_Overpass', 'x0_Equipment', 'x0_Grenade',\n",
       "       'x0_Heavy', 'x0_Pistol', 'x0_Rifle', 'x0_SMG', 'x0_Sniper',\n",
       "       'x0_ECO', 'x0_FORCE_BUY', 'x0_NORMAL', 'x0_PISTOL_ROUND',\n",
       "       'x0_SEMI_ECO'], dtype=object)"
      ]
     },
     "execution_count": 11,
     "metadata": {},
     "output_type": "execute_result"
    }
   ],
   "source": [
    "finalized_data = pd.concat([equal_dataset, weapons, round_type], axis = 1)\n",
    "input_labels = np.array(finalized_data.columns)\n",
    "input_labels = np.delete(input_labels, 6)\n",
    "input_labels"
   ]
  },
  {
   "cell_type": "code",
   "execution_count": 12,
   "metadata": {},
   "outputs": [],
   "source": [
    "# randomly shuffle the data\n",
    "shuffled_data = finalized_data.sample(frac = 1, random_state = 8888).reset_index(drop = True)\n",
    "\n",
    "# split the data into training and testing data \n",
    "# 70% of the data will be devoted to training the model\n",
    "# 30 % of the data will be devoted to testing the model \n",
    "\n",
    "training_data = shuffled_data.loc[:7332]\n",
    "testing_data = shuffled_data.loc[7333:]"
   ]
  },
  {
   "cell_type": "code",
   "execution_count": 13,
   "metadata": {},
   "outputs": [
    {
     "data": {
      "text/html": [
       "<div>\n",
       "<style scoped>\n",
       "    .dataframe tbody tr th:only-of-type {\n",
       "        vertical-align: middle;\n",
       "    }\n",
       "\n",
       "    .dataframe tbody tr th {\n",
       "        vertical-align: top;\n",
       "    }\n",
       "\n",
       "    .dataframe thead th {\n",
       "        text-align: right;\n",
       "    }\n",
       "</style>\n",
       "<table border=\"1\" class=\"dataframe\">\n",
       "  <thead>\n",
       "    <tr style=\"text-align: right;\">\n",
       "      <th></th>\n",
       "      <th>ct_alive</th>\n",
       "      <th>t_alive</th>\n",
       "      <th>is_bomb_planted</th>\n",
       "      <th>is_ct</th>\n",
       "      <th>Ct_Eq_Val</th>\n",
       "      <th>T_Eq_Val</th>\n",
       "      <th>y</th>\n",
       "      <th>Is_Overpass</th>\n",
       "      <th>x0_Equipment</th>\n",
       "      <th>x0_Grenade</th>\n",
       "      <th>x0_Heavy</th>\n",
       "      <th>x0_Pistol</th>\n",
       "      <th>x0_Rifle</th>\n",
       "      <th>x0_SMG</th>\n",
       "      <th>x0_Sniper</th>\n",
       "      <th>x0_ECO</th>\n",
       "      <th>x0_FORCE_BUY</th>\n",
       "      <th>x0_NORMAL</th>\n",
       "      <th>x0_PISTOL_ROUND</th>\n",
       "      <th>x0_SEMI_ECO</th>\n",
       "    </tr>\n",
       "  </thead>\n",
       "  <tbody>\n",
       "    <tr>\n",
       "      <th>0</th>\n",
       "      <td>2</td>\n",
       "      <td>0</td>\n",
       "      <td>1</td>\n",
       "      <td>0</td>\n",
       "      <td>4300</td>\n",
       "      <td>4250</td>\n",
       "      <td>0</td>\n",
       "      <td>1</td>\n",
       "      <td>0.0</td>\n",
       "      <td>1.0</td>\n",
       "      <td>0.0</td>\n",
       "      <td>0.0</td>\n",
       "      <td>0.0</td>\n",
       "      <td>0.0</td>\n",
       "      <td>0.0</td>\n",
       "      <td>0.0</td>\n",
       "      <td>0.0</td>\n",
       "      <td>0.0</td>\n",
       "      <td>1.0</td>\n",
       "      <td>0.0</td>\n",
       "    </tr>\n",
       "    <tr>\n",
       "      <th>1</th>\n",
       "      <td>5</td>\n",
       "      <td>4</td>\n",
       "      <td>0</td>\n",
       "      <td>1</td>\n",
       "      <td>4550</td>\n",
       "      <td>3850</td>\n",
       "      <td>1</td>\n",
       "      <td>0</td>\n",
       "      <td>0.0</td>\n",
       "      <td>0.0</td>\n",
       "      <td>0.0</td>\n",
       "      <td>0.0</td>\n",
       "      <td>0.0</td>\n",
       "      <td>0.0</td>\n",
       "      <td>1.0</td>\n",
       "      <td>0.0</td>\n",
       "      <td>0.0</td>\n",
       "      <td>0.0</td>\n",
       "      <td>1.0</td>\n",
       "      <td>0.0</td>\n",
       "    </tr>\n",
       "    <tr>\n",
       "      <th>2</th>\n",
       "      <td>5</td>\n",
       "      <td>3</td>\n",
       "      <td>0</td>\n",
       "      <td>1</td>\n",
       "      <td>4850</td>\n",
       "      <td>27600</td>\n",
       "      <td>1</td>\n",
       "      <td>1</td>\n",
       "      <td>0.0</td>\n",
       "      <td>0.0</td>\n",
       "      <td>0.0</td>\n",
       "      <td>0.0</td>\n",
       "      <td>1.0</td>\n",
       "      <td>0.0</td>\n",
       "      <td>0.0</td>\n",
       "      <td>1.0</td>\n",
       "      <td>0.0</td>\n",
       "      <td>0.0</td>\n",
       "      <td>0.0</td>\n",
       "      <td>0.0</td>\n",
       "    </tr>\n",
       "    <tr>\n",
       "      <th>3</th>\n",
       "      <td>4</td>\n",
       "      <td>4</td>\n",
       "      <td>0</td>\n",
       "      <td>1</td>\n",
       "      <td>31400</td>\n",
       "      <td>4450</td>\n",
       "      <td>1</td>\n",
       "      <td>1</td>\n",
       "      <td>0.0</td>\n",
       "      <td>0.0</td>\n",
       "      <td>0.0</td>\n",
       "      <td>0.0</td>\n",
       "      <td>0.0</td>\n",
       "      <td>0.0</td>\n",
       "      <td>1.0</td>\n",
       "      <td>1.0</td>\n",
       "      <td>0.0</td>\n",
       "      <td>0.0</td>\n",
       "      <td>0.0</td>\n",
       "      <td>0.0</td>\n",
       "    </tr>\n",
       "    <tr>\n",
       "      <th>4</th>\n",
       "      <td>2</td>\n",
       "      <td>2</td>\n",
       "      <td>0</td>\n",
       "      <td>0</td>\n",
       "      <td>4300</td>\n",
       "      <td>4250</td>\n",
       "      <td>0</td>\n",
       "      <td>1</td>\n",
       "      <td>0.0</td>\n",
       "      <td>0.0</td>\n",
       "      <td>0.0</td>\n",
       "      <td>0.0</td>\n",
       "      <td>1.0</td>\n",
       "      <td>0.0</td>\n",
       "      <td>0.0</td>\n",
       "      <td>0.0</td>\n",
       "      <td>0.0</td>\n",
       "      <td>0.0</td>\n",
       "      <td>1.0</td>\n",
       "      <td>0.0</td>\n",
       "    </tr>\n",
       "  </tbody>\n",
       "</table>\n",
       "</div>"
      ],
      "text/plain": [
       "   ct_alive  t_alive  is_bomb_planted  is_ct  Ct_Eq_Val  T_Eq_Val  y  \\\n",
       "0         2        0                1      0       4300      4250  0   \n",
       "1         5        4                0      1       4550      3850  1   \n",
       "2         5        3                0      1       4850     27600  1   \n",
       "3         4        4                0      1      31400      4450  1   \n",
       "4         2        2                0      0       4300      4250  0   \n",
       "\n",
       "   Is_Overpass  x0_Equipment  x0_Grenade  x0_Heavy  x0_Pistol  x0_Rifle  \\\n",
       "0            1           0.0         1.0       0.0        0.0       0.0   \n",
       "1            0           0.0         0.0       0.0        0.0       0.0   \n",
       "2            1           0.0         0.0       0.0        0.0       1.0   \n",
       "3            1           0.0         0.0       0.0        0.0       0.0   \n",
       "4            1           0.0         0.0       0.0        0.0       1.0   \n",
       "\n",
       "   x0_SMG  x0_Sniper  x0_ECO  x0_FORCE_BUY  x0_NORMAL  x0_PISTOL_ROUND  \\\n",
       "0     0.0        0.0     0.0           0.0        0.0              1.0   \n",
       "1     0.0        1.0     0.0           0.0        0.0              1.0   \n",
       "2     0.0        0.0     1.0           0.0        0.0              0.0   \n",
       "3     0.0        1.0     1.0           0.0        0.0              0.0   \n",
       "4     0.0        0.0     0.0           0.0        0.0              1.0   \n",
       "\n",
       "   x0_SEMI_ECO  \n",
       "0          0.0  \n",
       "1          0.0  \n",
       "2          0.0  \n",
       "3          0.0  \n",
       "4          0.0  "
      ]
     },
     "execution_count": 13,
     "metadata": {},
     "output_type": "execute_result"
    }
   ],
   "source": [
    "# Let's take a look at the data we're working with at hand\n",
    "training_data.head()"
   ]
  },
  {
   "cell_type": "markdown",
   "metadata": {},
   "source": [
    "# MODEL 1: USES ALL PREDICTORS"
   ]
  },
  {
   "cell_type": "code",
   "execution_count": 14,
   "metadata": {},
   "outputs": [
    {
     "data": {
      "text/plain": [
       "'y ~ 1 + ct_alive + t_alive + is_bomb_planted + is_ct + Ct_Eq_Val + T_Eq_Val + Is_Overpass + x0_Equipment + x0_Grenade + x0_Heavy + x0_Pistol + x0_Rifle + x0_SMG + x0_Sniper + x0_ECO + x0_FORCE_BUY + x0_NORMAL + x0_PISTOL_ROUND + x0_SEMI_ECO'"
      ]
     },
     "execution_count": 14,
     "metadata": {},
     "output_type": "execute_result"
    }
   ],
   "source": [
    "# This forms the logistic regression equation used to train our data \n",
    "eq = 'y ~ 1 + ' + ' + '.join(input_labels)\n",
    "eq"
   ]
  },
  {
   "cell_type": "code",
   "execution_count": 15,
   "metadata": {},
   "outputs": [
    {
     "name": "stdout",
     "output_type": "stream",
     "text": [
      "Optimization terminated successfully.\n",
      "         Current function value: 0.061385\n",
      "         Iterations 10\n"
     ]
    },
    {
     "data": {
      "text/html": [
       "<table class=\"simpletable\">\n",
       "<caption>Logit Regression Results</caption>\n",
       "<tr>\n",
       "  <th>Dep. Variable:</th>           <td>y</td>        <th>  No. Observations:  </th>  <td>  7333</td> \n",
       "</tr>\n",
       "<tr>\n",
       "  <th>Model:</th>                 <td>Logit</td>      <th>  Df Residuals:      </th>  <td>  7315</td> \n",
       "</tr>\n",
       "<tr>\n",
       "  <th>Method:</th>                 <td>MLE</td>       <th>  Df Model:          </th>  <td>    17</td> \n",
       "</tr>\n",
       "<tr>\n",
       "  <th>Date:</th>            <td>Thu, 03 Jun 2021</td> <th>  Pseudo R-squ.:     </th>  <td>0.9114</td> \n",
       "</tr>\n",
       "<tr>\n",
       "  <th>Time:</th>                <td>23:54:50</td>     <th>  Log-Likelihood:    </th> <td> -450.14</td>\n",
       "</tr>\n",
       "<tr>\n",
       "  <th>converged:</th>             <td>True</td>       <th>  LL-Null:           </th> <td> -5082.8</td>\n",
       "</tr>\n",
       "<tr>\n",
       "  <th>Covariance Type:</th>     <td>nonrobust</td>    <th>  LLR p-value:       </th>  <td> 0.000</td> \n",
       "</tr>\n",
       "</table>\n",
       "<table class=\"simpletable\">\n",
       "<tr>\n",
       "         <td></td>            <th>coef</th>     <th>std err</th>      <th>z</th>      <th>P>|z|</th>  <th>[0.025</th>    <th>0.975]</th>  \n",
       "</tr>\n",
       "<tr>\n",
       "  <th>Intercept</th>       <td>    2.0470</td> <td> 7.68e+06</td> <td> 2.66e-07</td> <td> 1.000</td> <td>-1.51e+07</td> <td> 1.51e+07</td>\n",
       "</tr>\n",
       "<tr>\n",
       "  <th>ct_alive</th>        <td>    0.1627</td> <td>    0.094</td> <td>    1.728</td> <td> 0.084</td> <td>   -0.022</td> <td>    0.347</td>\n",
       "</tr>\n",
       "<tr>\n",
       "  <th>t_alive</th>         <td>   -0.0249</td> <td>    0.085</td> <td>   -0.294</td> <td> 0.769</td> <td>   -0.191</td> <td>    0.141</td>\n",
       "</tr>\n",
       "<tr>\n",
       "  <th>is_bomb_planted</th> <td>    0.1188</td> <td>    0.297</td> <td>    0.401</td> <td> 0.689</td> <td>   -0.463</td> <td>    0.700</td>\n",
       "</tr>\n",
       "<tr>\n",
       "  <th>is_ct</th>           <td>   -0.3438</td> <td>    0.257</td> <td>   -1.340</td> <td> 0.180</td> <td>   -0.847</td> <td>    0.159</td>\n",
       "</tr>\n",
       "<tr>\n",
       "  <th>Ct_Eq_Val</th>       <td>    0.0002</td> <td> 4.32e-05</td> <td>    5.175</td> <td> 0.000</td> <td>    0.000</td> <td>    0.000</td>\n",
       "</tr>\n",
       "<tr>\n",
       "  <th>T_Eq_Val</th>        <td> 9.822e-05</td> <td> 4.36e-05</td> <td>    2.251</td> <td> 0.024</td> <td> 1.27e-05</td> <td>    0.000</td>\n",
       "</tr>\n",
       "<tr>\n",
       "  <th>Is_Overpass</th>     <td>   -8.0216</td> <td>    0.343</td> <td>  -23.374</td> <td> 0.000</td> <td>   -8.694</td> <td>   -7.349</td>\n",
       "</tr>\n",
       "<tr>\n",
       "  <th>x0_Equipment</th>    <td>    2.2107</td> <td> 1.77e+07</td> <td> 1.25e-07</td> <td> 1.000</td> <td>-3.46e+07</td> <td> 3.46e+07</td>\n",
       "</tr>\n",
       "<tr>\n",
       "  <th>x0_Grenade</th>      <td>    1.3256</td> <td> 1.77e+07</td> <td> 7.48e-08</td> <td> 1.000</td> <td>-3.48e+07</td> <td> 3.48e+07</td>\n",
       "</tr>\n",
       "<tr>\n",
       "  <th>x0_Heavy</th>        <td>    2.1753</td> <td> 1.76e+07</td> <td> 1.24e-07</td> <td> 1.000</td> <td>-3.45e+07</td> <td> 3.45e+07</td>\n",
       "</tr>\n",
       "<tr>\n",
       "  <th>x0_Pistol</th>       <td>    1.0951</td> <td> 1.77e+07</td> <td> 6.18e-08</td> <td> 1.000</td> <td>-3.48e+07</td> <td> 3.48e+07</td>\n",
       "</tr>\n",
       "<tr>\n",
       "  <th>x0_Rifle</th>        <td>    1.3170</td> <td> 1.79e+07</td> <td> 7.37e-08</td> <td> 1.000</td> <td> -3.5e+07</td> <td>  3.5e+07</td>\n",
       "</tr>\n",
       "<tr>\n",
       "  <th>x0_SMG</th>          <td>    1.2314</td> <td> 1.77e+07</td> <td> 6.94e-08</td> <td> 1.000</td> <td>-3.48e+07</td> <td> 3.48e+07</td>\n",
       "</tr>\n",
       "<tr>\n",
       "  <th>x0_Sniper</th>       <td>    1.3120</td> <td> 1.78e+07</td> <td> 7.37e-08</td> <td> 1.000</td> <td>-3.49e+07</td> <td> 3.49e+07</td>\n",
       "</tr>\n",
       "<tr>\n",
       "  <th>x0_ECO</th>          <td>    4.0937</td> <td> 6.81e+06</td> <td> 6.01e-07</td> <td> 1.000</td> <td>-1.33e+07</td> <td> 1.33e+07</td>\n",
       "</tr>\n",
       "<tr>\n",
       "  <th>x0_FORCE_BUY</th>    <td>    1.1830</td> <td> 6.81e+06</td> <td> 1.74e-07</td> <td> 1.000</td> <td>-1.33e+07</td> <td> 1.33e+07</td>\n",
       "</tr>\n",
       "<tr>\n",
       "  <th>x0_NORMAL</th>       <td>    0.4765</td> <td> 6.81e+06</td> <td>    7e-08</td> <td> 1.000</td> <td>-1.33e+07</td> <td> 1.33e+07</td>\n",
       "</tr>\n",
       "<tr>\n",
       "  <th>x0_PISTOL_ROUND</th> <td>   -2.2663</td> <td> 6.81e+06</td> <td>-3.33e-07</td> <td> 1.000</td> <td>-1.33e+07</td> <td> 1.33e+07</td>\n",
       "</tr>\n",
       "<tr>\n",
       "  <th>x0_SEMI_ECO</th>     <td>   -0.3625</td> <td> 6.81e+06</td> <td>-5.33e-08</td> <td> 1.000</td> <td>-1.33e+07</td> <td> 1.33e+07</td>\n",
       "</tr>\n",
       "</table>"
      ],
      "text/plain": [
       "<class 'statsmodels.iolib.summary.Summary'>\n",
       "\"\"\"\n",
       "                           Logit Regression Results                           \n",
       "==============================================================================\n",
       "Dep. Variable:                      y   No. Observations:                 7333\n",
       "Model:                          Logit   Df Residuals:                     7315\n",
       "Method:                           MLE   Df Model:                           17\n",
       "Date:                Thu, 03 Jun 2021   Pseudo R-squ.:                  0.9114\n",
       "Time:                        23:54:50   Log-Likelihood:                -450.14\n",
       "converged:                       True   LL-Null:                       -5082.8\n",
       "Covariance Type:            nonrobust   LLR p-value:                     0.000\n",
       "===================================================================================\n",
       "                      coef    std err          z      P>|z|      [0.025      0.975]\n",
       "-----------------------------------------------------------------------------------\n",
       "Intercept           2.0470   7.68e+06   2.66e-07      1.000   -1.51e+07    1.51e+07\n",
       "ct_alive            0.1627      0.094      1.728      0.084      -0.022       0.347\n",
       "t_alive            -0.0249      0.085     -0.294      0.769      -0.191       0.141\n",
       "is_bomb_planted     0.1188      0.297      0.401      0.689      -0.463       0.700\n",
       "is_ct              -0.3438      0.257     -1.340      0.180      -0.847       0.159\n",
       "Ct_Eq_Val           0.0002   4.32e-05      5.175      0.000       0.000       0.000\n",
       "T_Eq_Val         9.822e-05   4.36e-05      2.251      0.024    1.27e-05       0.000\n",
       "Is_Overpass        -8.0216      0.343    -23.374      0.000      -8.694      -7.349\n",
       "x0_Equipment        2.2107   1.77e+07   1.25e-07      1.000   -3.46e+07    3.46e+07\n",
       "x0_Grenade          1.3256   1.77e+07   7.48e-08      1.000   -3.48e+07    3.48e+07\n",
       "x0_Heavy            2.1753   1.76e+07   1.24e-07      1.000   -3.45e+07    3.45e+07\n",
       "x0_Pistol           1.0951   1.77e+07   6.18e-08      1.000   -3.48e+07    3.48e+07\n",
       "x0_Rifle            1.3170   1.79e+07   7.37e-08      1.000    -3.5e+07     3.5e+07\n",
       "x0_SMG              1.2314   1.77e+07   6.94e-08      1.000   -3.48e+07    3.48e+07\n",
       "x0_Sniper           1.3120   1.78e+07   7.37e-08      1.000   -3.49e+07    3.49e+07\n",
       "x0_ECO              4.0937   6.81e+06   6.01e-07      1.000   -1.33e+07    1.33e+07\n",
       "x0_FORCE_BUY        1.1830   6.81e+06   1.74e-07      1.000   -1.33e+07    1.33e+07\n",
       "x0_NORMAL           0.4765   6.81e+06      7e-08      1.000   -1.33e+07    1.33e+07\n",
       "x0_PISTOL_ROUND    -2.2663   6.81e+06  -3.33e-07      1.000   -1.33e+07    1.33e+07\n",
       "x0_SEMI_ECO        -0.3625   6.81e+06  -5.33e-08      1.000   -1.33e+07    1.33e+07\n",
       "===================================================================================\n",
       "\"\"\""
      ]
     },
     "execution_count": 15,
     "metadata": {},
     "output_type": "execute_result"
    }
   ],
   "source": [
    "# fit a logistic regression model using all predictors\n",
    "model = logit(eq, data = training_data).fit()\n",
    "# obtain a summary of the model's data\n",
    "model.summary()"
   ]
  },
  {
   "cell_type": "code",
   "execution_count": 16,
   "metadata": {
    "scrolled": true
   },
   "outputs": [
    {
     "data": {
      "text/html": [
       "<div>\n",
       "<style scoped>\n",
       "    .dataframe tbody tr th:only-of-type {\n",
       "        vertical-align: middle;\n",
       "    }\n",
       "\n",
       "    .dataframe tbody tr th {\n",
       "        vertical-align: top;\n",
       "    }\n",
       "\n",
       "    .dataframe thead th {\n",
       "        text-align: right;\n",
       "    }\n",
       "</style>\n",
       "<table border=\"1\" class=\"dataframe\">\n",
       "  <thead>\n",
       "    <tr style=\"text-align: right;\">\n",
       "      <th></th>\n",
       "      <th>Logistic Output</th>\n",
       "      <th>Prediction</th>\n",
       "      <th>Actual Values</th>\n",
       "    </tr>\n",
       "  </thead>\n",
       "  <tbody>\n",
       "    <tr>\n",
       "      <th>0</th>\n",
       "      <td>0.006099</td>\n",
       "      <td>0</td>\n",
       "      <td>0</td>\n",
       "    </tr>\n",
       "    <tr>\n",
       "      <th>1</th>\n",
       "      <td>0.945683</td>\n",
       "      <td>1</td>\n",
       "      <td>1</td>\n",
       "    </tr>\n",
       "    <tr>\n",
       "      <th>2</th>\n",
       "      <td>0.974047</td>\n",
       "      <td>1</td>\n",
       "      <td>1</td>\n",
       "    </tr>\n",
       "    <tr>\n",
       "      <th>3</th>\n",
       "      <td>0.999165</td>\n",
       "      <td>1</td>\n",
       "      <td>1</td>\n",
       "    </tr>\n",
       "    <tr>\n",
       "      <th>4</th>\n",
       "      <td>0.005114</td>\n",
       "      <td>0</td>\n",
       "      <td>0</td>\n",
       "    </tr>\n",
       "  </tbody>\n",
       "</table>\n",
       "</div>"
      ],
      "text/plain": [
       "   Logistic Output  Prediction  Actual Values\n",
       "0         0.006099           0              0\n",
       "1         0.945683           1              1\n",
       "2         0.974047           1              1\n",
       "3         0.999165           1              1\n",
       "4         0.005114           0              0"
      ]
     },
     "execution_count": 16,
     "metadata": {},
     "output_type": "execute_result"
    }
   ],
   "source": [
    "# obtain the predicted values on the TRAINING data\n",
    "logistic_output = pd.Series(model.predict())\n",
    "\n",
    "# write a threshold to categorize each logistic output to a prediction \n",
    "first_model_training_predictions = pd.DataFrame({'Logistic Output': logistic_output})\n",
    "first_model_training_predictions['Prediction'] = (first_model_training_predictions['Logistic Output'].\n",
    "                                        apply(lambda x: 1 if x >= 0.5 else 0))\n",
    "\n",
    "first_model_training_predictions['Actual Values'] = training_data['y']\n",
    "\n",
    "# display the training data\n",
    "first_model_training_predictions.head()"
   ]
  },
  {
   "cell_type": "code",
   "execution_count": 17,
   "metadata": {},
   "outputs": [
    {
     "data": {
      "text/plain": [
       "0.99181780990045"
      ]
     },
     "execution_count": 17,
     "metadata": {},
     "output_type": "execute_result"
    }
   ],
   "source": [
    "# CALCULATING THE ERROR ON THE TRAINING DATA\n",
    "# the proportion of correctly classified winners\n",
    "\n",
    "training_error = (first_model_training_predictions['Prediction'] == first_model_training_predictions['Actual Values']).mean()\n",
    "training_error"
   ]
  },
  {
   "cell_type": "code",
   "execution_count": 18,
   "metadata": {
    "scrolled": true
   },
   "outputs": [
    {
     "data": {
      "text/plain": [
       "<matplotlib.collections.PathCollection at 0x12c9d6a8d00>"
      ]
     },
     "execution_count": 18,
     "metadata": {},
     "output_type": "execute_result"
    },
    {
     "data": {
      "image/png": "[encoded data removed]",
      "text/plain": [
       "<Figure size 432x288 with 1 Axes>"
      ]
     },
     "metadata": {
      "needs_background": "light"
     },
     "output_type": "display_data"
    }
   ],
   "source": [
    "# plot the logistic output\n",
    "\n",
    "plt.scatter(np.arange(0, first_model_training_predictions.shape[0]), \n",
    "            first_model_training_predictions['Logistic Output'], s = 1.5) # need to add actual values to this graph \n"
   ]
  },
  {
   "cell_type": "code",
   "execution_count": 19,
   "metadata": {},
   "outputs": [
    {
     "data": {
      "text/html": [
       "<div>\n",
       "<style scoped>\n",
       "    .dataframe tbody tr th:only-of-type {\n",
       "        vertical-align: middle;\n",
       "    }\n",
       "\n",
       "    .dataframe tbody tr th {\n",
       "        vertical-align: top;\n",
       "    }\n",
       "\n",
       "    .dataframe thead th {\n",
       "        text-align: right;\n",
       "    }\n",
       "</style>\n",
       "<table border=\"1\" class=\"dataframe\">\n",
       "  <thead>\n",
       "    <tr style=\"text-align: right;\">\n",
       "      <th></th>\n",
       "      <th>Logistic Output</th>\n",
       "      <th>Prediction</th>\n",
       "      <th>Actual Values</th>\n",
       "    </tr>\n",
       "  </thead>\n",
       "  <tbody>\n",
       "    <tr>\n",
       "      <th>0</th>\n",
       "      <td>0.006099</td>\n",
       "      <td>0</td>\n",
       "      <td>0</td>\n",
       "    </tr>\n",
       "    <tr>\n",
       "      <th>1</th>\n",
       "      <td>0.945683</td>\n",
       "      <td>1</td>\n",
       "      <td>1</td>\n",
       "    </tr>\n",
       "    <tr>\n",
       "      <th>2</th>\n",
       "      <td>0.974047</td>\n",
       "      <td>1</td>\n",
       "      <td>1</td>\n",
       "    </tr>\n",
       "    <tr>\n",
       "      <th>3</th>\n",
       "      <td>0.999165</td>\n",
       "      <td>1</td>\n",
       "      <td>1</td>\n",
       "    </tr>\n",
       "    <tr>\n",
       "      <th>4</th>\n",
       "      <td>0.005114</td>\n",
       "      <td>0</td>\n",
       "      <td>0</td>\n",
       "    </tr>\n",
       "  </tbody>\n",
       "</table>\n",
       "</div>"
      ],
      "text/plain": [
       "   Logistic Output  Prediction  Actual Values\n",
       "0         0.006099           0              0\n",
       "1         0.945683           1              1\n",
       "2         0.974047           1              1\n",
       "3         0.999165           1              1\n",
       "4         0.005114           0              0"
      ]
     },
     "execution_count": 19,
     "metadata": {},
     "output_type": "execute_result"
    }
   ],
   "source": [
    "# obtain the predicted values on the TESTING data\n",
    "logistic_output = pd.Series(model.predict(testing_data))\n",
    "\n",
    "# write a threshold so to categorized each logistic output to a prediction \n",
    "first_model_testing_predictions = pd.DataFrame({'Logistic Output': logistic_output})\n",
    "first_model_testing_predictions['Prediction'] = (first_model_testing_predictions['Logistic Output'].\n",
    "                                        apply(lambda x: 1 if x >= 0.5 else 0))\n",
    "first_model_testing_predictions['Actual Values'] = testing_data['y']\n",
    "\n",
    "# display the training data\n",
    "first_model_training_predictions.head()"
   ]
  },
  {
   "cell_type": "code",
   "execution_count": 20,
   "metadata": {},
   "outputs": [
    {
     "data": {
      "text/plain": [
       "0.9926821508113267"
      ]
     },
     "execution_count": 20,
     "metadata": {},
     "output_type": "execute_result"
    }
   ],
   "source": [
    "# CALCULATING THE ERROR ON THE TESTING DATA\n",
    "# the proportion of correctly classified winners\n",
    "\n",
    "testing_error = (first_model_testing_predictions['Prediction'] == first_model_testing_predictions['Actual Values']).mean()\n",
    "testing_error"
   ]
  },
  {
   "cell_type": "markdown",
   "metadata": {},
   "source": [
    "# MODEL 2: USES ONLY A SUBSET OF PREDICTORS"
   ]
  },
  {
   "cell_type": "markdown",
   "metadata": {},
   "source": [
    "- use the training and testing data I made \n",
    "- iterate through each number of predictors (i.e, a model with 1 predictor, a model with 2 predictors, ... up to 20)\n",
    "- do kfold cross validation on the training data with each model, and get the average cross validated training error\n",
    "- choose the model with the smallest kfold error \n",
    "- using that chosen model, test it on the testing data"
   ]
  },
  {
   "cell_type": "code",
   "execution_count": 21,
   "metadata": {},
   "outputs": [],
   "source": [
    "from sklearn.model_selection import KFold"
   ]
  },
  {
   "cell_type": "code",
   "execution_count": 22,
   "metadata": {},
   "outputs": [],
   "source": [
    "equation_list = []\n",
    "\n",
    "eq = 'y ~ 1' # baseline equation\n",
    "\n",
    "for parameter in input_labels:\n",
    "    eq = eq + ' + ' + parameter\n",
    "    equation_list.append(eq)"
   ]
  },
  {
   "cell_type": "code",
   "execution_count": 23,
   "metadata": {},
   "outputs": [
    {
     "name": "stdout",
     "output_type": "stream",
     "text": [
      "Optimization terminated successfully.\n",
      "         Current function value: 0.693132\n",
      "         Iterations 3\n",
      "Optimization terminated successfully.\n",
      "         Current function value: 0.693076\n",
      "         Iterations 3\n",
      "Optimization terminated successfully.\n",
      "         Current function value: 0.692916\n",
      "         Iterations 3\n",
      "Optimization terminated successfully.\n",
      "         Current function value: 0.693029\n",
      "         Iterations 3\n",
      "Optimization terminated successfully.\n",
      "         Current function value: 0.693104\n",
      "         Iterations 3\n",
      "Optimization terminated successfully.\n",
      "         Current function value: 0.693131\n",
      "         Iterations 3\n",
      "Optimization terminated successfully.\n",
      "         Current function value: 0.693072\n",
      "         Iterations 3\n",
      "Optimization terminated successfully.\n",
      "         Current function value: 0.692893\n",
      "         Iterations 3\n",
      "Optimization terminated successfully.\n",
      "         Current function value: 0.693021\n",
      "         Iterations 3\n",
      "Optimization terminated successfully.\n",
      "         Current function value: 0.693101\n",
      "         Iterations 3\n",
      "Optimization terminated successfully.\n",
      "         Current function value: 0.692482\n",
      "         Iterations 3\n",
      "Optimization terminated successfully.\n",
      "         Current function value: 0.692802\n",
      "         Iterations 3\n",
      "Optimization terminated successfully.\n",
      "         Current function value: 0.692490\n",
      "         Iterations 3\n",
      "Optimization terminated successfully.\n",
      "         Current function value: 0.692846\n",
      "         Iterations 3\n",
      "Optimization terminated successfully.\n",
      "         Current function value: 0.692767\n",
      "         Iterations 3\n",
      "Optimization terminated successfully.\n",
      "         Current function value: 0.692464\n",
      "         Iterations 3\n",
      "Optimization terminated successfully.\n",
      "         Current function value: 0.692796\n",
      "         Iterations 3\n",
      "Optimization terminated successfully.\n",
      "         Current function value: 0.692449\n",
      "         Iterations 3\n",
      "Optimization terminated successfully.\n",
      "         Current function value: 0.692846\n",
      "         Iterations 3\n",
      "Optimization terminated successfully.\n",
      "         Current function value: 0.692767\n",
      "         Iterations 3\n",
      "Optimization terminated successfully.\n",
      "         Current function value: 0.284658\n",
      "         Iterations 9\n",
      "Optimization terminated successfully.\n",
      "         Current function value: 0.276378\n",
      "         Iterations 9\n",
      "Optimization terminated successfully.\n",
      "         Current function value: 0.284840\n",
      "         Iterations 9\n",
      "Optimization terminated successfully.\n",
      "         Current function value: 0.281328\n",
      "         Iterations 9\n",
      "Optimization terminated successfully.\n",
      "         Current function value: 0.280165\n",
      "         Iterations 9\n",
      "Optimization terminated successfully.\n",
      "         Current function value: 0.206063\n",
      "         Iterations 9\n",
      "Optimization terminated successfully.\n",
      "         Current function value: 0.197961\n",
      "         Iterations 9\n",
      "Optimization terminated successfully.\n",
      "         Current function value: 0.206002\n",
      "         Iterations 9\n",
      "Optimization terminated successfully.\n",
      "         Current function value: 0.196514\n",
      "         Iterations 9\n",
      "Optimization terminated successfully.\n",
      "         Current function value: 0.192947\n",
      "         Iterations 9\n",
      "Optimization terminated successfully.\n",
      "         Current function value: 0.105761\n",
      "         Iterations 9\n",
      "Optimization terminated successfully.\n",
      "         Current function value: 0.087743\n",
      "         Iterations 9\n",
      "Optimization terminated successfully.\n",
      "         Current function value: 0.104362\n",
      "         Iterations 9\n",
      "Optimization terminated successfully.\n",
      "         Current function value: 0.095170\n",
      "         Iterations 9\n",
      "Optimization terminated successfully.\n",
      "         Current function value: 0.088496\n",
      "         Iterations 9\n",
      "Optimization terminated successfully.\n",
      "         Current function value: 0.105758\n",
      "         Iterations 9\n",
      "Optimization terminated successfully.\n",
      "         Current function value: 0.087724\n",
      "         Iterations 9\n",
      "Optimization terminated successfully.\n",
      "         Current function value: 0.104338\n",
      "         Iterations 9\n",
      "Optimization terminated successfully.\n",
      "         Current function value: 0.095148\n",
      "         Iterations 9\n",
      "Optimization terminated successfully.\n",
      "         Current function value: 0.088480\n",
      "         Iterations 9\n",
      "Optimization terminated successfully.\n",
      "         Current function value: 0.105757\n",
      "         Iterations 9\n",
      "Optimization terminated successfully.\n",
      "         Current function value: 0.087716\n",
      "         Iterations 9\n",
      "Optimization terminated successfully.\n",
      "         Current function value: 0.104314\n",
      "         Iterations 9\n",
      "Optimization terminated successfully.\n",
      "         Current function value: 0.095142\n",
      "         Iterations 9\n",
      "Optimization terminated successfully.\n",
      "         Current function value: 0.088476\n",
      "         Iterations 9\n",
      "Optimization terminated successfully.\n",
      "         Current function value: 0.105752\n",
      "         Iterations 9\n",
      "Optimization terminated successfully.\n",
      "         Current function value: 0.087715\n",
      "         Iterations 9\n",
      "Optimization terminated successfully.\n",
      "         Current function value: 0.104311\n",
      "         Iterations 9\n",
      "Optimization terminated successfully.\n",
      "         Current function value: 0.095142\n",
      "         Iterations 9\n",
      "Optimization terminated successfully.\n",
      "         Current function value: 0.088475\n",
      "         Iterations 9\n",
      "Optimization terminated successfully.\n",
      "         Current function value: 0.105748\n",
      "         Iterations 9\n",
      "Optimization terminated successfully.\n",
      "         Current function value: 0.087714\n",
      "         Iterations 9\n",
      "Optimization terminated successfully.\n",
      "         Current function value: 0.104273\n",
      "         Iterations 9\n",
      "Optimization terminated successfully.\n",
      "         Current function value: 0.095126\n",
      "         Iterations 9\n",
      "Optimization terminated successfully.\n",
      "         Current function value: 0.088475\n",
      "         Iterations 9\n",
      "Optimization terminated successfully.\n",
      "         Current function value: 0.105725\n",
      "         Iterations 9\n",
      "Optimization terminated successfully.\n",
      "         Current function value: 0.087709\n",
      "         Iterations 9\n",
      "Optimization terminated successfully.\n",
      "         Current function value: 0.104273\n",
      "         Iterations 9\n",
      "Optimization terminated successfully.\n",
      "         Current function value: 0.095123\n",
      "         Iterations 9\n",
      "Optimization terminated successfully.\n",
      "         Current function value: 0.088472\n",
      "         Iterations 9\n",
      "Optimization terminated successfully.\n",
      "         Current function value: 0.105540\n",
      "         Iterations 9\n",
      "Optimization terminated successfully.\n",
      "         Current function value: 0.087682\n",
      "         Iterations 9\n",
      "Optimization terminated successfully.\n",
      "         Current function value: 0.104210\n",
      "         Iterations 9\n",
      "Optimization terminated successfully.\n",
      "         Current function value: 0.095091\n",
      "         Iterations 9\n",
      "Optimization terminated successfully.\n",
      "         Current function value: 0.088309\n",
      "         Iterations 9\n",
      "Optimization terminated successfully.\n",
      "         Current function value: 0.105540\n",
      "         Iterations 9\n",
      "Optimization terminated successfully.\n",
      "         Current function value: 0.087682\n",
      "         Iterations 9\n",
      "Optimization terminated successfully.\n",
      "         Current function value: 0.104210\n",
      "         Iterations 9\n",
      "Optimization terminated successfully.\n",
      "         Current function value: 0.095091\n",
      "         Iterations 9\n",
      "Optimization terminated successfully.\n",
      "         Current function value: 0.088309\n",
      "         Iterations 9\n",
      "Optimization terminated successfully.\n",
      "         Current function value: 0.068168\n",
      "         Iterations 9\n",
      "Optimization terminated successfully.\n",
      "         Current function value: 0.058376\n",
      "         Iterations 10\n",
      "Optimization terminated successfully.\n",
      "         Current function value: 0.067417\n",
      "         Iterations 9\n",
      "Optimization terminated successfully.\n",
      "         Current function value: 0.063116\n",
      "         Iterations 9\n",
      "Optimization terminated successfully.\n",
      "         Current function value: 0.049805\n",
      "         Iterations 10\n",
      "Optimization terminated successfully.\n",
      "         Current function value: 0.068032\n",
      "         Iterations 9\n",
      "Warning: Maximum number of iterations has been exceeded.\n",
      "         Current function value: 0.057884\n",
      "         Iterations: 35\n",
      "Optimization terminated successfully.\n",
      "         Current function value: 0.067323\n",
      "         Iterations 9\n"
     ]
    },
    {
     "name": "stderr",
     "output_type": "stream",
     "text": [
      "c:\\users\\dylan\\appdata\\local\\programs\\python\\python38\\lib\\site-packages\\statsmodels\\base\\model.py:566: ConvergenceWarning: Maximum Likelihood optimization failed to converge. Check mle_retvals\n",
      "  warnings.warn(\"Maximum Likelihood optimization failed to \"\n"
     ]
    },
    {
     "name": "stdout",
     "output_type": "stream",
     "text": [
      "Optimization terminated successfully.\n",
      "         Current function value: 0.063053\n",
      "         Iterations 9\n",
      "Optimization terminated successfully.\n",
      "         Current function value: 0.049672\n",
      "         Iterations 10\n"
     ]
    }
   ],
   "source": [
    "fold_count = 5 # number of folds to split the data into\n",
    "kf = KFold(n_splits = fold_count, random_state = 2, shuffle = True) # KFold transformer\n",
    "\n",
    "training_error = {} # dictionary to store the avg training error of each model  \n",
    "testing_error = {} # dictionary to store the avg testing error of each model \n",
    "\n",
    "parameter_counter = 1\n",
    "\n",
    "for eq in equation_list[:16]:\n",
    "    \n",
    "    eq_testing_error = np.array([])\n",
    "    eq_training_error = np.array([])\n",
    "    \n",
    "    # split the training data into 5 folds \n",
    "    for training, validation in kf.split(training_data):\n",
    "    \n",
    "        # get the folds for testing and validation\n",
    "        train_data = training_data.loc[training]\n",
    "        validation_data = training_data.loc[validation]\n",
    "        \n",
    "        # fit a logistic model on the training data\n",
    "        model = logit(eq, data = train_data).fit()\n",
    "        \n",
    "        # make predictions using the model\n",
    "        logistic_output_valid = pd.Series(model.predict(validation_data))\n",
    "        predicted_values_valid = logistic_output_valid.apply(lambda x: 1 if x >= 0.5 else 0)\n",
    "        \n",
    "        logistic_output_train = pd.Series(model.predict(train_data))\n",
    "        predicted_values_train = logistic_output_train.apply(lambda x: 1 if x >= 0.5 else 0)\n",
    "        \n",
    "        # calculate the error of the TRAINING data\n",
    "        matches_training = (train_data.get('y') == predicted_values_train)\n",
    "        error_train = matches_training.mean()\n",
    "        \n",
    "        # calculate the error of the VALIDATION data\n",
    "        matches_validation = (validation_data.get('y') == predicted_values_valid)\n",
    "        error_validation = matches_validation.mean()\n",
    "        \n",
    "        eq_training_error = np.append(eq_training_error, error_train)\n",
    "        eq_testing_error = np.append(eq_testing_error, error_validation)\n",
    "        \n",
    "    training_error[parameter_counter] = eq_training_error.mean()\n",
    "    testing_error[parameter_counter] = eq_testing_error.mean()\n",
    "    \n",
    "    parameter_counter += 1"
   ]
  },
  {
   "cell_type": "code",
   "execution_count": 24,
   "metadata": {
    "scrolled": true
   },
   "outputs": [
    {
     "data": {
      "text/plain": [
       "{1: 0.5066138126818531,\n",
       " 2: 0.5065115690103232,\n",
       " 3: 0.5136030050364627,\n",
       " 4: 0.513841691766072,\n",
       " 5: 0.8979953638765334,\n",
       " 6: 0.9511453656402569,\n",
       " 7: 0.9909995466619975,\n",
       " 8: 0.9909995466619975,\n",
       " 9: 0.9909995466619975,\n",
       " 10: 0.9909995466619975,\n",
       " 11: 0.9909995466619975,\n",
       " 12: 0.9909995466619975,\n",
       " 13: 0.9909995466619975,\n",
       " 14: 0.9909995466619975,\n",
       " 15: 0.9918177633531462,\n",
       " 16: 0.9918177633531462}"
      ]
     },
     "execution_count": 24,
     "metadata": {},
     "output_type": "execute_result"
    }
   ],
   "source": [
    "training_error"
   ]
  },
  {
   "cell_type": "code",
   "execution_count": 25,
   "metadata": {},
   "outputs": [
    {
     "name": "stdout",
     "output_type": "stream",
     "text": [
      "Optimization terminated successfully.\n",
      "         Current function value: 0.061521\n",
      "         Iterations 9\n"
     ]
    }
   ],
   "source": [
    "model = logit(equation_list[16], data = training_data).fit()\n",
    "training_predictions = pd.Series(model.predict(training_data)).apply(lambda x: 1 if x >= 0.5 else 0)\n",
    "testing_predictions = pd.Series(model.predict(testing_data)).apply(lambda x: 1 if x >= 0.5 else 0)\n",
    "\n",
    "matches_training = (training_predictions == training_data.get('y')).mean()\n",
    "matches_testing = (testing_predictions == testing_data.get('y')).mean()\n",
    "\n",
    "training_error[17] = matches_training\n",
    "testing_error[17] = matches_testing"
   ]
  },
  {
   "cell_type": "code",
   "execution_count": 26,
   "metadata": {},
   "outputs": [
    {
     "name": "stdout",
     "output_type": "stream",
     "text": [
      "Optimization terminated successfully.\n",
      "         Current function value: 0.061385\n",
      "         Iterations 10\n"
     ]
    }
   ],
   "source": [
    "model = logit(equation_list[17], data = training_data).fit()\n",
    "training_predictions = pd.Series(model.predict(training_data)).apply(lambda x: 1 if x >= 0.5 else 0)\n",
    "testing_predictions = pd.Series(model.predict(testing_data)).apply(lambda x: 1 if x >= 0.5 else 0)\n",
    "\n",
    "matches_training = (training_predictions == training_data.get('y')).mean()\n",
    "matches_testing = (testing_predictions == testing_data.get('y')).mean()\n",
    "\n",
    "training_error[18] = matches_training\n",
    "testing_error[18] = matches_testing"
   ]
  },
  {
   "cell_type": "code",
   "execution_count": 27,
   "metadata": {},
   "outputs": [
    {
     "name": "stdout",
     "output_type": "stream",
     "text": [
      "Optimization terminated successfully.\n",
      "         Current function value: 0.061385\n",
      "         Iterations 10\n"
     ]
    }
   ],
   "source": [
    "model = logit(equation_list[18], data = training_data).fit()\n",
    "training_predictions = pd.Series(model.predict(training_data)).apply(lambda x: 1 if x >= 0.5 else 0)\n",
    "testing_predictions = pd.Series(model.predict(testing_data)).apply(lambda x: 1 if x >= 0.5 else 0)\n",
    "\n",
    "matches_training = (training_predictions == training_data.get('y')).mean()\n",
    "matches_testing = (testing_predictions == testing_data.get('y')).mean()\n",
    "\n",
    "training_error[19] = matches_training\n",
    "testing_error[19] = matches_testing"
   ]
  },
  {
   "cell_type": "code",
   "execution_count": 28,
   "metadata": {},
   "outputs": [
    {
     "data": {
      "text/plain": [
       "{1: 0.5066138126818531,\n",
       " 2: 0.5065115690103232,\n",
       " 3: 0.5136030050364627,\n",
       " 4: 0.513841691766072,\n",
       " 5: 0.8979953638765334,\n",
       " 6: 0.9511453656402569,\n",
       " 7: 0.9909995466619975,\n",
       " 8: 0.9909995466619975,\n",
       " 9: 0.9909995466619975,\n",
       " 10: 0.9909995466619975,\n",
       " 11: 0.9909995466619975,\n",
       " 12: 0.9909995466619975,\n",
       " 13: 0.9909995466619975,\n",
       " 14: 0.9909995466619975,\n",
       " 15: 0.9918177633531462,\n",
       " 16: 0.9918177633531462,\n",
       " 17: 0.99181780990045,\n",
       " 18: 0.99181780990045,\n",
       " 19: 0.99181780990045}"
      ]
     },
     "execution_count": 28,
     "metadata": {},
     "output_type": "execute_result"
    }
   ],
   "source": [
    "training_error"
   ]
  },
  {
   "cell_type": "code",
   "execution_count": 29,
   "metadata": {
    "scrolled": true
   },
   "outputs": [
    {
     "data": {
      "text/plain": [
       "{1: 0.48916136819952555,\n",
       " 2: 0.4845255000646326,\n",
       " 3: 0.5059339112126631,\n",
       " 4: 0.5051153573245322,\n",
       " 5: 0.8979953706416097,\n",
       " 6: 0.9511775663040739,\n",
       " 7: 0.9909988831138155,\n",
       " 8: 0.9909988831138155,\n",
       " 9: 0.9909988831138155,\n",
       " 10: 0.9909988831138155,\n",
       " 11: 0.9909988831138155,\n",
       " 12: 0.9909988831138155,\n",
       " 13: 0.9909988831138155,\n",
       " 14: 0.9909988831138155,\n",
       " 15: 0.9918170650165393,\n",
       " 16: 0.9918170650165393,\n",
       " 17: 0.9926821508113267,\n",
       " 18: 0.9926821508113267,\n",
       " 19: 0.9926821508113267}"
      ]
     },
     "execution_count": 29,
     "metadata": {},
     "output_type": "execute_result"
    }
   ],
   "source": [
    "testing_error"
   ]
  },
  {
   "cell_type": "code",
   "execution_count": 30,
   "metadata": {},
   "outputs": [
    {
     "data": {
      "text/plain": [
       "Text(0.5, 1.0, 'Accuracy of Logistic Models with Varying Number of Parameters on Training Data')"
      ]
     },
     "execution_count": 30,
     "metadata": {},
     "output_type": "execute_result"
    },
    {
     "data": {
      "image/png": "[encoded data removed]",
      "text/plain": [
       "<Figure size 432x288 with 1 Axes>"
      ]
     },
     "metadata": {
      "needs_background": "light"
     },
     "output_type": "display_data"
    }
   ],
   "source": [
    "plt.bar(list(training_error.keys()), list(training_error.values()))\n",
    "plt.xlabel('Number of Parameters')\n",
    "plt.ylabel('Training Data Accuracy')\n",
    "plt.title('Accuracy of Logistic Models with Varying Number of Parameters on Training Data')"
   ]
  },
  {
   "cell_type": "code",
   "execution_count": 31,
   "metadata": {},
   "outputs": [
    {
     "data": {
      "text/plain": [
       "Text(0.5, 1.0, 'Accuracy of Logistic Models with Varying Number of Parameters on Testing Data')"
      ]
     },
     "execution_count": 31,
     "metadata": {},
     "output_type": "execute_result"
    },
    {
     "data": {
      "image/png": "[encoded data removed]",
      "text/plain": [
       "<Figure size 432x288 with 1 Axes>"
      ]
     },
     "metadata": {
      "needs_background": "light"
     },
     "output_type": "display_data"
    }
   ],
   "source": [
    "plt.bar(list(testing_error.keys()), list(testing_error.values()))\n",
    "plt.xlabel('Number of Parameters')\n",
    "plt.ylabel('Testing Data Accuracy')\n",
    "plt.title('Accuracy of Logistic Models with Varying Number of Parameters on Testing Data')"
   ]
  },
  {
   "cell_type": "code",
   "execution_count": 32,
   "metadata": {},
   "outputs": [
    {
     "data": {
      "text/plain": [
       "'y ~ 1 + ct_alive + t_alive + is_bomb_planted + is_ct + Ct_Eq_Val + T_Eq_Val + Is_Overpass'"
      ]
     },
     "execution_count": 32,
     "metadata": {},
     "output_type": "execute_result"
    }
   ],
   "source": [
    "# based off a high accuracy yet small number of parameters, we choose the 7th model\n",
    "chosen_model = equation_list[6] # 7th model is the best\n",
    "chosen_model"
   ]
  },
  {
   "cell_type": "markdown",
   "metadata": {},
   "source": [
    "We expect that a majority of the time, both teams (Terrorist and Counter Terrorists) will have the same strenght of weapons with little rounds of mismatch (i.e., pistols vs full econ) so the weapons are negligible given that they are usually the same across both teams"
   ]
  },
  {
   "cell_type": "code",
   "execution_count": 33,
   "metadata": {},
   "outputs": [
    {
     "name": "stdout",
     "output_type": "stream",
     "text": [
      "Optimization terminated successfully.\n",
      "         Current function value: 0.091738\n",
      "         Iterations 9\n"
     ]
    },
    {
     "data": {
      "text/html": [
       "<table class=\"simpletable\">\n",
       "<caption>Logit Regression Results</caption>\n",
       "<tr>\n",
       "  <th>Dep. Variable:</th>           <td>y</td>        <th>  No. Observations:  </th>  <td> 10476</td> \n",
       "</tr>\n",
       "<tr>\n",
       "  <th>Model:</th>                 <td>Logit</td>      <th>  Df Residuals:      </th>  <td> 10468</td> \n",
       "</tr>\n",
       "<tr>\n",
       "  <th>Method:</th>                 <td>MLE</td>       <th>  Df Model:          </th>  <td>     7</td> \n",
       "</tr>\n",
       "<tr>\n",
       "  <th>Date:</th>            <td>Thu, 03 Jun 2021</td> <th>  Pseudo R-squ.:     </th>  <td>0.8677</td> \n",
       "</tr>\n",
       "<tr>\n",
       "  <th>Time:</th>                <td>23:54:55</td>     <th>  Log-Likelihood:    </th> <td> -961.05</td>\n",
       "</tr>\n",
       "<tr>\n",
       "  <th>converged:</th>             <td>True</td>       <th>  LL-Null:           </th> <td> -7261.4</td>\n",
       "</tr>\n",
       "<tr>\n",
       "  <th>Covariance Type:</th>     <td>nonrobust</td>    <th>  LLR p-value:       </th>  <td> 0.000</td> \n",
       "</tr>\n",
       "</table>\n",
       "<table class=\"simpletable\">\n",
       "<tr>\n",
       "         <td></td>            <th>coef</th>     <th>std err</th>      <th>z</th>      <th>P>|z|</th>  <th>[0.025</th>    <th>0.975]</th>  \n",
       "</tr>\n",
       "<tr>\n",
       "  <th>Intercept</th>       <td>   -0.2494</td> <td>    0.318</td> <td>   -0.785</td> <td> 0.433</td> <td>   -0.872</td> <td>    0.373</td>\n",
       "</tr>\n",
       "<tr>\n",
       "  <th>ct_alive</th>        <td>    0.0818</td> <td>    0.061</td> <td>    1.339</td> <td> 0.181</td> <td>   -0.038</td> <td>    0.202</td>\n",
       "</tr>\n",
       "<tr>\n",
       "  <th>t_alive</th>         <td>   -0.0091</td> <td>    0.053</td> <td>   -0.172</td> <td> 0.864</td> <td>   -0.113</td> <td>    0.095</td>\n",
       "</tr>\n",
       "<tr>\n",
       "  <th>is_bomb_planted</th> <td>    0.0279</td> <td>    0.202</td> <td>    0.138</td> <td> 0.890</td> <td>   -0.367</td> <td>    0.423</td>\n",
       "</tr>\n",
       "<tr>\n",
       "  <th>is_ct</th>           <td>   -0.1845</td> <td>    0.163</td> <td>   -1.130</td> <td> 0.258</td> <td>   -0.505</td> <td>    0.136</td>\n",
       "</tr>\n",
       "<tr>\n",
       "  <th>Ct_Eq_Val</th>       <td>    0.0004</td> <td> 1.04e-05</td> <td>   37.814</td> <td> 0.000</td> <td>    0.000</td> <td>    0.000</td>\n",
       "</tr>\n",
       "<tr>\n",
       "  <th>T_Eq_Val</th>        <td>    0.0003</td> <td> 8.71e-06</td> <td>   34.042</td> <td> 0.000</td> <td>    0.000</td> <td>    0.000</td>\n",
       "</tr>\n",
       "<tr>\n",
       "  <th>Is_Overpass</th>     <td>   -6.9031</td> <td>    0.237</td> <td>  -29.113</td> <td> 0.000</td> <td>   -7.368</td> <td>   -6.438</td>\n",
       "</tr>\n",
       "</table><br/><br/>Possibly complete quasi-separation: A fraction 0.19 of observations can be<br/>perfectly predicted. This might indicate that there is complete<br/>quasi-separation. In this case some parameters will not be identified."
      ],
      "text/plain": [
       "<class 'statsmodels.iolib.summary.Summary'>\n",
       "\"\"\"\n",
       "                           Logit Regression Results                           \n",
       "==============================================================================\n",
       "Dep. Variable:                      y   No. Observations:                10476\n",
       "Model:                          Logit   Df Residuals:                    10468\n",
       "Method:                           MLE   Df Model:                            7\n",
       "Date:                Thu, 03 Jun 2021   Pseudo R-squ.:                  0.8677\n",
       "Time:                        23:54:55   Log-Likelihood:                -961.05\n",
       "converged:                       True   LL-Null:                       -7261.4\n",
       "Covariance Type:            nonrobust   LLR p-value:                     0.000\n",
       "===================================================================================\n",
       "                      coef    std err          z      P>|z|      [0.025      0.975]\n",
       "-----------------------------------------------------------------------------------\n",
       "Intercept          -0.2494      0.318     -0.785      0.433      -0.872       0.373\n",
       "ct_alive            0.0818      0.061      1.339      0.181      -0.038       0.202\n",
       "t_alive            -0.0091      0.053     -0.172      0.864      -0.113       0.095\n",
       "is_bomb_planted     0.0279      0.202      0.138      0.890      -0.367       0.423\n",
       "is_ct              -0.1845      0.163     -1.130      0.258      -0.505       0.136\n",
       "Ct_Eq_Val           0.0004   1.04e-05     37.814      0.000       0.000       0.000\n",
       "T_Eq_Val            0.0003   8.71e-06     34.042      0.000       0.000       0.000\n",
       "Is_Overpass        -6.9031      0.237    -29.113      0.000      -7.368      -6.438\n",
       "===================================================================================\n",
       "\n",
       "Possibly complete quasi-separation: A fraction 0.19 of observations can be\n",
       "perfectly predicted. This might indicate that there is complete\n",
       "quasi-separation. In this case some parameters will not be identified.\n",
       "\"\"\""
      ]
     },
     "execution_count": 33,
     "metadata": {},
     "output_type": "execute_result"
    }
   ],
   "source": [
    "final_model = logit(chosen_model, data = shuffled_data).fit()\n",
    "final_model.summary()"
   ]
  },
  {
   "cell_type": "code",
   "execution_count": 34,
   "metadata": {},
   "outputs": [],
   "source": [
    "logistic_output = final_model.predict()\n",
    "predictions = pd.Series(logistic_output).apply(lambda x: 1 if x >= 0.5 else 0)"
   ]
  },
  {
   "cell_type": "code",
   "execution_count": 35,
   "metadata": {
    "scrolled": true
   },
   "outputs": [
    {
     "data": {
      "text/plain": [
       "0.9914089347079038"
      ]
     },
     "execution_count": 35,
     "metadata": {},
     "output_type": "execute_result"
    }
   ],
   "source": [
    "final_error = (predictions == shuffled_data.get('y')).mean()\n",
    "final_error"
   ]
  },
  {
   "cell_type": "code",
   "execution_count": 36,
   "metadata": {},
   "outputs": [
    {
     "data": {
      "text/plain": [
       "Text(0.5, 1.0, 'Logistic Outputs of Dataset Observations')"
      ]
     },
     "execution_count": 36,
     "metadata": {},
     "output_type": "execute_result"
    },
    {
     "data": {
      "image/png": "[encoded data removed]",
      "text/plain": [
       "<Figure size 432x288 with 1 Axes>"
      ]
     },
     "metadata": {
      "needs_background": "light"
     },
     "output_type": "display_data"
    }
   ],
   "source": [
    "#plt.scatter(shuffled_data.index, shuffled_data.get('y'))\n",
    "plt.scatter(predictions.index, logistic_output, s = 1.5)\n",
    "plt.ylabel('Logistic Output')\n",
    "plt.xlabel('Observation')\n",
    "plt.title('Logistic Outputs of Dataset Observations')"
   ]
  }
 ],
 "metadata": {
  "kernelspec": {
   "display_name": "Python 3",
   "language": "python",
   "name": "python3"
  },
  "language_info": {
   "codemirror_mode": {
    "name": "ipython",
    "version": 3
   },
   "file_extension": ".py",
   "mimetype": "text/x-python",
   "name": "python",
   "nbconvert_exporter": "python",
   "pygments_lexer": "ipython3",
   "version": "3.8.5"
  }
 },
 "nbformat": 4,
 "nbformat_minor": 4
}
